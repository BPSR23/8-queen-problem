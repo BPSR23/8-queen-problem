{
  "nbformat": 4,
  "nbformat_minor": 0,
  "metadata": {
    "colab": {
      "name": "RA1911042010066-Bhanu(8-Queens).ipynb",
      "provenance": [],
      "collapsed_sections": [],
      "authorship_tag": "ABX9TyPyWLwL8tJPY5a8kBKaffSD",
      "include_colab_link": true
    },
    "kernelspec": {
      "name": "python3",
      "display_name": "Python 3"
    },
    "language_info": {
      "name": "python"
    }
  },
  "cells": [
    {
      "cell_type": "markdown",
      "metadata": {
        "id": "view-in-github",
        "colab_type": "text"
      },
      "source": [
        "<a href=\"https://colab.research.google.com/github/BPSR23/8-queen-problem/blob/main/8-queen-problem.ipynb\" target=\"_parent\"><img src=\"https://colab.research.google.com/assets/colab-badge.svg\" alt=\"Open In Colab\"/></a>"
      ]
    },
    {
      "cell_type": "code",
      "execution_count": null,
      "metadata": {
        "colab": {
          "base_uri": "https://localhost:8080/"
        },
        "id": "z3NplG71MWmK",
        "outputId": "38d53bac-f36c-4579-df1d-eba7cab01742"
      },
      "outputs": [
        {
          "output_type": "stream",
          "name": "stdout",
          "text": [
            "Enter the number of queens\n",
            "8\n",
            "[1, 0, 0, 0, 0, 0, 0, 0]\n",
            "[0, 0, 0, 0, 1, 0, 0, 0]\n",
            "[0, 0, 0, 0, 0, 0, 0, 1]\n",
            "[0, 0, 0, 0, 0, 1, 0, 0]\n",
            "[0, 0, 1, 0, 0, 0, 0, 0]\n",
            "[0, 0, 0, 0, 0, 0, 1, 0]\n",
            "[0, 1, 0, 0, 0, 0, 0, 0]\n",
            "[0, 0, 0, 1, 0, 0, 0, 0]\n"
          ]
        }
      ],
      "source": [
        "print (\"Enter the number of queens\")\n",
        "N = int(input())\n",
        "# here we create a chessboard\n",
        "# NxN matrix with all elements set to 0\n",
        "board = [[0]*N for _ in range(N)]\n",
        "def attack(i, j):\n",
        "    #checking vertically and horizontally\n",
        "    for k in range(0,N):\n",
        "        if board[i][k]==1 or board[k][j]==1:\n",
        "            return True\n",
        "    #checking diagonally\n",
        "    for k in range(0,N):\n",
        "        for l in range(0,N):\n",
        "            if (k+l==i+j) or (k-l==i-j):\n",
        "                if board[k][l]==1:\n",
        "                    return True\n",
        "    return False\n",
        "def N_queens(n):\n",
        "    if n==0:\n",
        "        return True\n",
        "    for i in range(0,N):\n",
        "        for j in range(0,N):\n",
        "            if (not(attack(i,j))) and (board[i][j]!=1):\n",
        "                board[i][j] = 1\n",
        "                if N_queens(n-1)==True:\n",
        "                    return True\n",
        "                board[i][j] = 0\n",
        "    return False\n",
        "N_queens(N)\n",
        "for i in board:\n",
        "    print (i)"
      ]
    }
  ]
}